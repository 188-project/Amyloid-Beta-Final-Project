{
 "cells": [
  {
   "cell_type": "code",
   "execution_count": 6,
   "metadata": {},
   "outputs": [],
   "source": [
    "# This line tells matplotlib to include plots here\n",
    "%matplotlib inline\n",
    "import numpy as np # We'll need numpy later\n",
    "import matplotlib.pyplot as plt # This lets us access the pyplot functions\n"
   ]
  },
  {
   "cell_type": "code",
   "execution_count": 7,
   "metadata": {},
   "outputs": [],
   "source": [
    "# Code to upload .csv files with data\n",
    "\n",
    "sol_access_1IYT = np.loadtxt(\"Copy of Sol Access Data - 1IYT Table S1.csv\", delimiter=\",\")"
   ]
  },
  {
   "cell_type": "code",
   "execution_count": 8,
   "metadata": {},
   "outputs": [
    {
     "name": "stdout",
     "output_type": "stream",
     "text": [
      "[[4129.19 4160.79 4071.28 4197.42]\n",
      " [4135.09 4167.95 4078.08 4205.32]\n",
      " [4134.58 4170.58 4082.61 4206.42]\n",
      " [4181.65 4234.21 4116.23 4266.86]\n",
      " [4136.93 4172.31 4078.75 4210.88]\n",
      " [4149.04 4187.49 4095.7  4224.5 ]\n",
      " [4154.98 4205.52 4102.44 4243.28]\n",
      " [4122.59 4151.42 4067.67 4189.41]\n",
      " [4119.54 4146.13 4059.51 4185.59]\n",
      " [4079.36 4127.24 4036.23 4167.09]\n",
      " [4126.99 4164.27 4071.43 4203.34]\n",
      " [4143.16 4190.9  4087.8  4229.56]\n",
      " [4136.75 4162.99 4076.81 4201.8 ]\n",
      " [4133.4  4171.24 4083.22 4206.25]\n",
      " [4168.32 4201.83 4108.45 4239.44]\n",
      " [4172.19 4210.92 4121.76 4248.04]]\n"
     ]
    }
   ],
   "source": [
    "print(sol_access_1IYT)"
   ]
  },
  {
   "cell_type": "code",
   "execution_count": null,
   "metadata": {},
   "outputs": [],
   "source": []
  }
 ],
 "metadata": {
  "kernelspec": {
   "display_name": "Python 3",
   "language": "python",
   "name": "python3"
  },
  "language_info": {
   "codemirror_mode": {
    "name": "ipython",
    "version": 3
   },
   "file_extension": ".py",
   "mimetype": "text/x-python",
   "name": "python",
   "nbconvert_exporter": "python",
   "pygments_lexer": "ipython3",
   "version": "3.7.1"
  }
 },
 "nbformat": 4,
 "nbformat_minor": 2
}
