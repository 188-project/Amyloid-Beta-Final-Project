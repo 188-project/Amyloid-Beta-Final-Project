{
 "cells": [
  {
   "cell_type": "code",
   "execution_count": 2,
   "metadata": {},
   "outputs": [],
   "source": [
    "# This line tells matplotlib to include plots here\n",
    "%matplotlib inline\n",
    "import numpy as np # We'll need numpy later\n",
    "import matplotlib.pyplot as plt # This lets us access the pyplot functions\n"
   ]
  },
  {
   "cell_type": "markdown",
   "metadata": {},
   "source": [
    "#### Upload total surface area solvent accessibility in A^2 and reproduce the plots in Fig. S5"
   ]
  },
  {
   "cell_type": "code",
   "execution_count": 3,
   "metadata": {},
   "outputs": [],
   "source": [
    "# Names of calculating surface area accessibility\n",
    "web_based_tools = ['DS', 'StructTools', 'GetArea', 'Mobyle']\n",
    "\n",
    "# Code to upload .csv files with data\n",
    "_1IYT_tot_solvent_access = np.loadtxt(\"Sol Acc - 1IYT TS1.csv\",  usecols = (1,2,3,4), delimiter = \",\")\n",
    "_1IYT_conformations = np.loadtxt(\"Sol Acc - 1IYT TS1.csv\",  usecols = (0), delimiter = \",\", dtype = str)\n",
    "\n",
    "_1ZOQ_tot_solvent_access = np.loadtxt(\"Sol Acc - 1ZOQ TS2.csv\",  usecols = (1,2,3,4), delimiter = \",\")\n",
    "_1ZOQ_conformations = np.loadtxt(\"Sol Acc - 1ZOQ TS2.csv\",  usecols = (0), delimiter = \",\", dtype = str)\n",
    "\n",
    "_1BA4_tot_solvent_access = np.loadtxt(\"Sol Acc - 1BA4 TS3.csv\",  usecols = (1,2,3,4), delimiter = \",\")\n",
    "_1BA4_conformations = np.loadtxt(\"Sol Acc - 1BA4 TS3.csv\",  usecols = (0), delimiter = \",\", dtype = str)\n",
    "\n",
    "_2LFM_tot_solvent_access = np.loadtxt(\"Sol Acc - 2LFM TS4.csv\",  usecols = (1,2,3,4), delimiter = \",\")\n",
    "_2LFM_conformations = np.loadtxt(\"Sol Acc - 2LFM TS4.csv\",  usecols = (0), delimiter = \",\", dtype = str)\n",
    "\n"
   ]
  },
  {
   "cell_type": "code",
   "execution_count": null,
   "metadata": {},
   "outputs": [],
   "source": []
  }
 ],
 "metadata": {
  "kernelspec": {
   "display_name": "Python 3",
   "language": "python",
   "name": "python3"
  },
  "language_info": {
   "codemirror_mode": {
    "name": "ipython",
    "version": 3
   },
   "file_extension": ".py",
   "mimetype": "text/x-python",
   "name": "python",
   "nbconvert_exporter": "python",
   "pygments_lexer": "ipython3",
   "version": "3.7.1"
  }
 },
 "nbformat": 4,
 "nbformat_minor": 2
}
